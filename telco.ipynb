{
 "cells": [
  {
   "cell_type": "markdown",
   "id": "ad13d07c",
   "metadata": {},
   "source": [
    "1. Loading libraries and data"
   ]
  },
  {
   "cell_type": "code",
   "execution_count": null,
   "id": "9f679664",
   "metadata": {},
   "outputs": [],
   "source": [
    "# ========== Standard Libraries ==========\n",
    "import os\n",
    "import numpy as np\n",
    "import pandas as pd\n",
    "import matplotlib.pyplot as plt\n",
    "import seaborn as sns\n",
    "from scipy import stats\n",
    "\n",
    "# ========== Scikit-learn ==========\n",
    "from sklearn.model_selection import train_test_split, learning_curve, validation_curve\n",
    "from sklearn.impute import SimpleImputer\n",
    "from sklearn.preprocessing import OneHotEncoder, StandardScaler\n",
    "from sklearn.pipeline import Pipeline\n",
    "from sklearn.compose import ColumnTransformer\n",
    "\n",
    "# Models\n",
    "from sklearn.linear_model import LogisticRegression\n",
    "from sklearn.neighbors import KNeighborsClassifier\n",
    "from sklearn.svm import SVC\n",
    "from sklearn.ensemble import RandomForestClassifier, GradientBoostingClassifier\n",
    "\n",
    "# Metrics & Evaluation\n",
    "from sklearn import metrics\n",
    "from sklearn.metrics import (\n",
    "    accuracy_score,\n",
    "    mean_squared_error,\n",
    "    RocCurveDisplay,\n",
    "    PrecisionRecallDisplay,\n",
    "    ConfusionMatrixDisplay,\n",
    "    roc_auc_score,\n",
    "    classification_report\n",
    "\n",
    ")\n",
    "\n",
    "# ========== Imbalanced Data ==========\n",
    "from imblearn.over_sampling import SMOTE\n",
    "\n",
    "# ========== XGBoost ==========\n",
    "from xgboost import XGBClassifier\n",
    "\n",
    "# ========== Save Model==========\n",
    "import joblib\n"
   ]
  },
  {
   "cell_type": "markdown",
   "id": "6e1a18b6",
   "metadata": {},
   "source": [
    "3. Undertanding the data"
   ]
  },
  {
   "cell_type": "code",
   "execution_count": null,
   "id": "54c925ae",
   "metadata": {},
   "outputs": [],
   "source": [
    "\n",
    "## Read the Dataset\n",
    "TRAIN_PATH = os.path.join(os.getcwd(),'WA_Fn-UseC_-Telco-Customer-Churn.csv')\n",
    "data = pd.read_csv(TRAIN_PATH)"
   ]
  },
  {
   "cell_type": "code",
   "execution_count": null,
   "id": "2e67aad4",
   "metadata": {},
   "outputs": [],
   "source": [
    "data.head()"
   ]
  },
  {
   "cell_type": "code",
   "execution_count": null,
   "id": "6096b68b",
   "metadata": {},
   "outputs": [],
   "source": [
    "data.describe()"
   ]
  },
  {
   "cell_type": "code",
   "execution_count": null,
   "id": "fbce25bc",
   "metadata": {},
   "outputs": [],
   "source": [
    "data.dtypes"
   ]
  },
  {
   "cell_type": "code",
   "execution_count": null,
   "id": "1c6ac25c",
   "metadata": {},
   "outputs": [],
   "source": [
    "data.info()"
   ]
  },
  {
   "cell_type": "code",
   "execution_count": null,
   "id": "5a485f52",
   "metadata": {},
   "outputs": [],
   "source": [
    "sns.heatmap(data.isna())"
   ]
  },
  {
   "cell_type": "markdown",
   "id": "3b4c103e",
   "metadata": {},
   "source": [
    "3. Data Visualization"
   ]
  },
  {
   "cell_type": "code",
   "execution_count": null,
   "id": "56c72246",
   "metadata": {},
   "outputs": [],
   "source": [
    "import plotly.graph_objects as go\n",
    "from plotly.subplots import make_subplots\n",
    "g_labels = ['Male', 'Female']\n",
    "c_labels = ['No', 'Yes']\n",
    "fig = make_subplots(rows=1, cols=2, specs=[[{'type':'domain'}, {'type':'domain'}]])\n",
    "fig.add_trace(go.Pie(labels=g_labels, values=data['gender'].value_counts(), name=\"Gender\"),\n",
    "              1, 1)\n",
    "fig.add_trace(go.Pie(labels=c_labels, values=data['Churn'].value_counts(), name=\"Churn\"),\n",
    "              1, 2)\n",
    "\n",
    "\n",
    "fig.update_traces(hole=.4, hoverinfo=\"label+percent+name\", textfont_size=16)\n",
    "\n",
    "fig.update_layout(\n",
    "    title_text=\"Gender and Churn Distributions\",\n",
    "\n",
    "    annotations=[dict(text='Gender', x=0.19, y=0.5, font_size=20, showarrow=False),\n",
    "                 dict(text='Churn', x=0.81, y=0.5, font_size=20, showarrow=False)])\n",
    "fig.show()"
   ]
  },
  {
   "cell_type": "code",
   "execution_count": null,
   "id": "c392d9f9",
   "metadata": {},
   "outputs": [],
   "source": [
    "import plotly.express as px\n",
    "fig = px.histogram(data, x=\"Churn\", color=\"Contract\", barmode=\"group\", title=\"<b>Customer contract distribution<b>\")\n",
    "fig.update_layout(width=700, height=500, bargap=0.1)\n",
    "fig.show()"
   ]
  },
  {
   "cell_type": "code",
   "execution_count": null,
   "id": "5d3cfbec",
   "metadata": {},
   "outputs": [],
   "source": [
    "fig = px.histogram(data, x=\"Churn\", color=\"PaymentMethod\", title=\"<b>Customer Payment Method distribution w.r.t. Churn</b>\")\n",
    "fig.update_layout(width=700, height=500, bargap=0.1)\n",
    "fig.show()"
   ]
  },
  {
   "cell_type": "code",
   "execution_count": null,
   "id": "6fc9aae9",
   "metadata": {},
   "outputs": [],
   "source": [
    "sns.set_context(\"paper\", font_scale=1.1)\n",
    "\n",
    "sns.kdeplot(\n",
    "    data=data,\n",
    "    x=\"MonthlyCharges\",\n",
    "    hue=\"Churn\",\n",
    "    fill=True,\n",
    "    alpha=0.5\n",
    ")\n",
    "\n",
    "plt.title('Distribution of monthly charges by churn')\n",
    "plt.show()\n",
    "\n"
   ]
  },
  {
   "cell_type": "markdown",
   "id": "dfe45785",
   "metadata": {},
   "source": [
    "outliers Detection"
   ]
  },
  {
   "cell_type": "code",
   "execution_count": null,
   "id": "91b84da4",
   "metadata": {},
   "outputs": [],
   "source": [
    "z_scores = np.abs(stats.zscore(data['MonthlyCharges']))\n",
    "outliers = data[z_scores > 3]\n",
    "print(outliers.shape)"
   ]
  },
  {
   "cell_type": "markdown",
   "id": "ca88b6a8",
   "metadata": {},
   "source": [
    "5. Data PreProcessing"
   ]
  },
  {
   "cell_type": "code",
   "execution_count": null,
   "id": "e227975a",
   "metadata": {},
   "outputs": [],
   "source": [
    "data=data.drop([\"customerID\"] , axis=1)\n",
    "data[\"Churn\"] = pd.get_dummies(data[\"Churn\"], drop_first=True)\n"
   ]
  },
  {
   "cell_type": "code",
   "execution_count": null,
   "id": "2abe764c",
   "metadata": {},
   "outputs": [],
   "source": [
    "data.columns"
   ]
  },
  {
   "cell_type": "code",
   "execution_count": null,
   "id": "162d0d90",
   "metadata": {},
   "outputs": [],
   "source": [
    "\n",
    "y=data[\"Churn\"]\n",
    "\n",
    "x=data.drop([\"Churn\"] , axis=1)\n",
    "\n",
    "X_train , X_test , y_train , y_test =train_test_split(x ,y , test_size=0.3,random_state=42 , stratify=y)"
   ]
  },
  {
   "cell_type": "code",
   "execution_count": null,
   "id": "332be887",
   "metadata": {},
   "outputs": [],
   "source": [
    "import pandas as pd\n",
    "\n",
    "# نفترض إن عندك DataFrame اسمه data\n",
    "categorical_columns = data.select_dtypes(include=['object']).columns\n",
    "\n",
    "print(\"Categorical columns:\")\n",
    "print(categorical_columns)\n"
   ]
  },
  {
   "cell_type": "code",
   "execution_count": null,
   "id": "23b83d92",
   "metadata": {},
   "outputs": [],
   "source": [
    "\n",
    "from sklearn.pipeline import Pipeline\n",
    "from sklearn.impute import SimpleImputer\n",
    "from sklearn.preprocessing import StandardScaler, OneHotEncoder\n",
    "from sklearn.compose import ColumnTransformer\n",
    "\n",
    "# تأكد إن TotalCharges أرقام\n",
    "X_train['TotalCharges'] = pd.to_numeric(X_train['TotalCharges'], errors='coerce')\n",
    "X_test['TotalCharges'] = pd.to_numeric(X_test['TotalCharges'], errors='coerce')\n",
    "\n",
    "# numeric & categorical\n",
    "num_cols = ['tenure', 'MonthlyCharges', 'TotalCharges']\n",
    "categ_cols = ['gender', 'SeniorCitizen', 'Partner', 'Dependents',\n",
    "              'PhoneService', 'MultipleLines', 'InternetService',\n",
    "              'OnlineSecurity', 'OnlineBackup', 'DeviceProtection',\n",
    "              'TechSupport', 'StreamingTV', 'StreamingMovies',\n",
    "              'Contract', 'PaperlessBilling', 'PaymentMethod']\n",
    "ready_cols = list(set(X_train.columns) - set(num_cols) - set(categ_cols))\n",
    "\n",
    "# build ColumnTransformer (بدون DataFrameSelector ولا FeatureUnion)\n",
    "all_pipeline = ColumnTransformer(transformers=[\n",
    "    ('num', Pipeline([\n",
    "        ('imputer', SimpleImputer(strategy='median')),\n",
    "        ('scaler', StandardScaler())\n",
    "    ]), num_cols),\n",
    "\n",
    "    ('cat', Pipeline([\n",
    "        ('imputer', SimpleImputer(strategy='most_frequent')),\n",
    "        ('ohe', OneHotEncoder(drop='first', sparse_output=False))\n",
    "    ]), categ_cols),\n",
    "\n",
    "    ('ready', Pipeline([\n",
    "        ('imputer', SimpleImputer(strategy='most_frequent'))\n",
    "    ]), ready_cols)\n",
    "])\n",
    "\n",
    "# apply\n",
    "X_train_final = all_pipeline.fit_transform(X_train)\n",
    "X_test_final = all_pipeline.transform(X_test)\n",
    "\n",
    "print(X_train_final.shape, X_test_final.shape)\n"
   ]
  },
  {
   "cell_type": "code",
   "execution_count": null,
   "id": "6443e9d3",
   "metadata": {},
   "outputs": [],
   "source": [
    "# ==============================\n",
    "# 5. Handle Imbalanced Data (SMOTE)\n",
    "# ==============================\n",
    "sm = SMOTE(random_state=42)\n",
    "X_resampled, y_resampled = sm.fit_resample(X_train_final, y_train)\n",
    "\n",
    "print(\"Before SMOTE:\", y_train.value_counts().to_dict())\n",
    "print(\"After SMOTE:\", pd.Series(y_resampled).value_counts().to_dict())\n"
   ]
  },
  {
   "cell_type": "code",
   "execution_count": null,
   "id": "32a001c9",
   "metadata": {},
   "outputs": [],
   "source": [
    "# ==============================\n",
    "# 6. Train Models\n",
    "# ==============================\n",
    "models = {\n",
    "    \"RandomForest\": RandomForestClassifier(n_estimators=200, random_state=42, class_weight=\"balanced\"),\n",
    "    \"LogisticRegression\": LogisticRegression(max_iter=500, class_weight=\"balanced\"),\n",
    "    \"XGBoost\": XGBClassifier(eval_metric=\"logloss\", random_state=42),\n",
    "}\n",
    "\n",
    "for name, model in models.items():\n",
    "    model.fit(X_resampled, y_resampled)\n",
    "    y_pred = model.predict(X_test_final)\n",
    "    print(f\"\\n{name}\")\n",
    "    print(classification_report(y_test, y_pred))\n",
    "    print(\"AUC:\", roc_auc_score(y_test, model.predict_proba(X_test_final)[:, 1]))\n",
    "\n",
    "\n"
   ]
  },
  {
   "cell_type": "code",
   "execution_count": null,
   "id": "97387ed7",
   "metadata": {},
   "outputs": [],
   "source": [
    "# ==============================\n",
    "# 10. Feature Importance (XGBoost)\n",
    "# ==============================\n",
    "model_xgb = XGBClassifier(eval_metric=\"logloss\", random_state=42)\n",
    "model_xgb.fit(X_resampled, y_resampled)\n",
    "\n",
    "# Get feature names\n",
    "feature_names = (\n",
    "    num_cols +\n",
    "    list(all_pipeline.named_transformers_['cat'].named_steps['ohe'].get_feature_names_out(categ_cols)) +\n",
    "    ready_cols\n",
    ")\n",
    "\n",
    "importances = model_xgb.feature_importances_\n",
    "indices = np.argsort(importances)[-15:]\n",
    "\n",
    "plt.figure(figsize=(8,6))\n",
    "plt.barh(range(len(indices)), importances[indices], align=\"center\")\n",
    "plt.yticks(range(len(indices)), [feature_names[i] for i in indices])\n",
    "plt.title(\"Top 15 Feature Importances (XGBoost)\")\n",
    "plt.show()\n",
    "\n"
   ]
  },
  {
   "cell_type": "code",
   "execution_count": null,
   "id": "d7fd976e",
   "metadata": {},
   "outputs": [],
   "source": [
    "# ==============================\n",
    "# 7. Best Model (RandomForest) - Evaluation\n",
    "# ==============================\n",
    "best_model = RandomForestClassifier(\n",
    "    n_estimators=500,\n",
    "    max_depth=6,\n",
    "    min_samples_split=50,\n",
    "    min_samples_leaf=20,\n",
    "    max_features=0.3,\n",
    "    class_weight=\"balanced\",\n",
    "    random_state=42\n",
    ")\n",
    "\n",
    "best_model.fit(X_resampled, y_resampled)\n",
    "\n",
    "RocCurveDisplay.from_estimator(best_model, X_test_final, y_test)\n",
    "plt.title(\"ROC Curve\"); plt.show()\n",
    "\n",
    "PrecisionRecallDisplay.from_estimator(best_model, X_test_final, y_test)\n",
    "plt.title(\"Precision-Recall Curve\"); plt.show()\n",
    "\n",
    "ConfusionMatrixDisplay.from_estimator(best_model, X_test_final, y_test)\n",
    "plt.title(\"Confusion Matrix\"); plt.show()\n"
   ]
  },
  {
   "cell_type": "code",
   "execution_count": null,
   "id": "d86a4cd0",
   "metadata": {},
   "outputs": [],
   "source": [
    "# ==============================\n",
    "# 8. Learning Curve\n",
    "# ==============================\n",
    "train_sizes, train_scores, val_scores = learning_curve(\n",
    "    best_model,\n",
    "    X_resampled,\n",
    "    y_resampled,\n",
    "    cv=5,\n",
    "    scoring='f1',\n",
    "    train_sizes=np.linspace(0.1, 1.0, 5),\n",
    "    n_jobs=-1\n",
    ")\n",
    "\n",
    "train_mean = train_scores.mean(axis=1)\n",
    "val_mean = val_scores.mean(axis=1)\n",
    "\n",
    "plt.plot(train_sizes, train_mean, marker='o', label='Train')\n",
    "plt.plot(train_sizes, val_mean, marker='o', label='Validation')\n",
    "plt.xlabel('Training examples')\n",
    "plt.ylabel('F1 Score')\n",
    "plt.title('Learning Curve')\n",
    "plt.legend()\n",
    "plt.grid(True)\n",
    "plt.show()\n"
   ]
  },
  {
   "cell_type": "code",
   "execution_count": null,
   "id": "4aaeebc2",
   "metadata": {},
   "outputs": [],
   "source": [
    "# ==============================\n",
    "# 9. Validation Curve (max_depth)\n",
    "# ==============================\n",
    "param_range = [2, 4, 6, 8, 10, 15, 20, None]\n",
    "\n",
    "train_scores, val_scores = validation_curve(\n",
    "    RandomForestClassifier(n_estimators=200, random_state=42, class_weight=\"balanced\"),\n",
    "    X_resampled, y_resampled,\n",
    "    param_name=\"max_depth\",\n",
    "    param_range=param_range,\n",
    "    cv=5,\n",
    "    scoring=\"f1\",\n",
    "    n_jobs=-1\n",
    ")\n",
    "\n",
    "plt.plot(param_range, train_scores.mean(axis=1), marker=\"o\", label=\"Train\")\n",
    "plt.plot(param_range, val_scores.mean(axis=1), marker=\"o\", label=\"Validation\")\n",
    "plt.xlabel(\"max_depth\")\n",
    "plt.ylabel(\"F1 Score\")\n",
    "plt.title(\"Validation Curve - RandomForest\")\n",
    "plt.legend()\n",
    "plt.show()\n",
    "\n"
   ]
  },
  {
   "cell_type": "code",
   "execution_count": null,
   "id": "a62b1ee1",
   "metadata": {},
   "outputs": [],
   "source": [
    "# ==============================\n",
    "# 11. Save Best Model\n",
    "# ==============================\n",
    "joblib.dump(best_model, \"best_randomforest_model.pkl\")\n",
    "print(\"Model saved as best_randomforest_model.pkl\")\n",
    "\n",
    "# ==============================\n",
    "# 12. Save Pipeline\n",
    "# ==============================\n",
    "from sklearn.pipeline import Pipeline\n",
    "\n",
    "# Pipeline = Preprocessing + Model\n",
    "final_pipeline = Pipeline([\n",
    "    (\"prep\", all_pipeline),\n",
    "    (\"clf\", RandomForestClassifier(\n",
    "        n_estimators=500,\n",
    "        max_depth=6,\n",
    "        min_samples_split=50,\n",
    "        min_samples_leaf=20,\n",
    "        max_features=0.3,\n",
    "        class_weight=\"balanced\",\n",
    "        random_state=42\n",
    "    ))\n",
    "])\n",
    "\n",
    "\n",
    "final_pipeline.fit(X_train, y_train)\n",
    "\n",
    "\n",
    "y_pred = final_pipeline.predict(X_test)\n",
    "print(classification_report(y_test, y_pred))\n",
    "\n",
    "joblib.dump(final_pipeline, \"churn_pipeline.pkl\")\n",
    "print(\"Pipeline saved as churn_pipeline.pkl\")\n"
   ]
  }
 ],
 "metadata": {
  "kernelspec": {
   "display_name": "base",
   "language": "python",
   "name": "python3"
  },
  "language_info": {
   "codemirror_mode": {
    "name": "ipython",
    "version": 3
   },
   "file_extension": ".py",
   "mimetype": "text/x-python",
   "name": "python",
   "nbconvert_exporter": "python",
   "pygments_lexer": "ipython3",
   "version": "3.13.5"
  }
 },
 "nbformat": 4,
 "nbformat_minor": 5
}
